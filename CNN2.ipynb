{
  "nbformat": 4,
  "nbformat_minor": 0,
  "metadata": {
    "colab": {
      "name": "CNN2.ipynb",
      "provenance": [],
      "authorship_tag": "ABX9TyOnjWJoJsTFcuNmzGI8mKuB",
      "include_colab_link": true
    },
    "kernelspec": {
      "name": "python3",
      "display_name": "Python 3"
    },
    "accelerator": "GPU"
  },
  "cells": [
    {
      "cell_type": "markdown",
      "metadata": {
        "id": "view-in-github",
        "colab_type": "text"
      },
      "source": [
        "<a href=\"https://colab.research.google.com/github/tina043c/ML/blob/master/CNN2.ipynb\" target=\"_parent\"><img src=\"https://colab.research.google.com/assets/colab-badge.svg\" alt=\"Open In Colab\"/></a>"
      ]
    },
    {
      "cell_type": "code",
      "metadata": {
        "id": "ggF81LC4KA56",
        "colab_type": "code",
        "colab": {
          "base_uri": "https://localhost:8080/",
          "height": 34
        },
        "outputId": "fa4dde20-ede8-452a-e749-8273f4158547"
      },
      "source": [
        "import os\n",
        "os.environ['KERAS_BACKEND'] = 'tensorflow'\n",
        "from __future__ import print_function\n",
        "from tensorflow import keras\n",
        "from tensorflow.keras.datasets import mnist\n",
        "from tensorflow.keras.models import Sequential\n",
        "from tensorflow.keras.layers import Dense, Dropout\n",
        "from keras.optimizers import RMSprop"
      ],
      "execution_count": 2,
      "outputs": [
        {
          "output_type": "stream",
          "text": [
            "Using TensorFlow backend.\n"
          ],
          "name": "stderr"
        }
      ]
    },
    {
      "cell_type": "code",
      "metadata": {
        "id": "ylR4vEPPKMT0",
        "colab_type": "code",
        "colab": {}
      },
      "source": [
        "DIR_OUT = './'\n",
        "batch_size = 128\n",
        "num_classes = 10\n",
        "epochs = 20\n"
      ],
      "execution_count": 0,
      "outputs": []
    },
    {
      "cell_type": "code",
      "metadata": {
        "id": "vHBzfDjsKPag",
        "colab_type": "code",
        "colab": {
          "base_uri": "https://localhost:8080/",
          "height": 51
        },
        "outputId": "94076e8d-130d-4fee-ca1e-46e8bb026d0b"
      },
      "source": [
        "# input image dimensions\n",
        "img_rows, img_cols = 28, 28\n",
        "\n",
        "# the data, split between train and test sets\n",
        "(x_train, y_train), (x_test, y_test) = mnist.load_data()"
      ],
      "execution_count": 4,
      "outputs": [
        {
          "output_type": "stream",
          "text": [
            "Downloading data from https://storage.googleapis.com/tensorflow/tf-keras-datasets/mnist.npz\n",
            "11493376/11490434 [==============================] - 0s 0us/step\n"
          ],
          "name": "stdout"
        }
      ]
    },
    {
      "cell_type": "code",
      "metadata": {
        "id": "cPvYLChaLovD",
        "colab_type": "code",
        "colab": {}
      },
      "source": [
        "\n",
        "x_train = x_train.reshape(60000, 784)\n",
        "x_test = x_test.reshape(10000, 784)\n",
        "x_train = x_train.astype('float32')\n",
        "x_test = x_test.astype('float32')\n",
        "x_train /= 255\n",
        "x_test /= 255"
      ],
      "execution_count": 0,
      "outputs": []
    },
    {
      "cell_type": "code",
      "metadata": {
        "id": "UTv5-dm-MJE3",
        "colab_type": "code",
        "outputId": "c256c3da-e12d-4554-ca02-76b2e91a3561",
        "colab": {
          "base_uri": "https://localhost:8080/",
          "height": 51
        }
      },
      "source": [
        "print(x_train.shape[0],'train samples')\n",
        "print(x_test.shape[0],'test samples')\n",
        "\n"
      ],
      "execution_count": 6,
      "outputs": [
        {
          "output_type": "stream",
          "text": [
            "60000 train samples\n",
            "10000 test samples\n"
          ],
          "name": "stdout"
        }
      ]
    },
    {
      "cell_type": "code",
      "metadata": {
        "id": "-PFkn3qsWAs5",
        "colab_type": "code",
        "colab": {}
      },
      "source": [
        "y_train = keras.utils.to_categorical(y_train, num_classes)\n",
        "y_test = keras.utils.to_categorical(y_test, num_classes)\n"
      ],
      "execution_count": 0,
      "outputs": []
    },
    {
      "cell_type": "code",
      "metadata": {
        "id": "vUKDKmIKYu1S",
        "colab_type": "code",
        "outputId": "824b6273-42b7-4549-c100-b3eb13fbe6d8",
        "colab": {
          "base_uri": "https://localhost:8080/",
          "height": 357
        }
      },
      "source": [
        "model_name = 'CNN1'\n",
        "model=Sequential()\n",
        "model.add(Dense(512,activation='relu',input_shape=(784,)))\n",
        "model.add(Dropout(0.2))\n",
        "model.add(Dense(512,activation='relu'))\n",
        "model.add(Dense(512,activation='tanh'))\n",
        "model.add(Dropout(0.2))\n",
        "model.add(Dense(num_classes,activation='softmax'))\n",
        "model.summary()\n",
        "\n"
      ],
      "execution_count": 8,
      "outputs": [
        {
          "output_type": "stream",
          "text": [
            "Model: \"sequential\"\n",
            "_________________________________________________________________\n",
            "Layer (type)                 Output Shape              Param #   \n",
            "=================================================================\n",
            "dense (Dense)                (None, 512)               401920    \n",
            "_________________________________________________________________\n",
            "dropout (Dropout)            (None, 512)               0         \n",
            "_________________________________________________________________\n",
            "dense_1 (Dense)              (None, 512)               262656    \n",
            "_________________________________________________________________\n",
            "dense_2 (Dense)              (None, 512)               262656    \n",
            "_________________________________________________________________\n",
            "dropout_1 (Dropout)          (None, 512)               0         \n",
            "_________________________________________________________________\n",
            "dense_3 (Dense)              (None, 10)                5130      \n",
            "=================================================================\n",
            "Total params: 932,362\n",
            "Trainable params: 932,362\n",
            "Non-trainable params: 0\n",
            "_________________________________________________________________\n"
          ],
          "name": "stdout"
        }
      ]
    },
    {
      "cell_type": "code",
      "metadata": {
        "id": "fWA7v8mxY74N",
        "colab_type": "code",
        "colab": {}
      },
      "source": [
        "\n",
        "# initiate RMSprop optimizer\n",
        "opt = keras.optimizers.RMSprop(learning_rate=0.0001, decay=1e-6)"
      ],
      "execution_count": 0,
      "outputs": []
    },
    {
      "cell_type": "code",
      "metadata": {
        "id": "k47QmKH3Y9R5",
        "colab_type": "code",
        "colab": {}
      },
      "source": [
        "# Let's train the model using RMSprop\n",
        "model.compile(loss='categorical_crossentropy',\n",
        "              optimizer=opt,\n",
        "              metrics=['accuracy'])\n"
      ],
      "execution_count": 0,
      "outputs": []
    },
    {
      "cell_type": "code",
      "metadata": {
        "id": "ZBoGCnGQcc27",
        "colab_type": "code",
        "outputId": "ce86f696-94df-46f0-ac56-8ac4fe6c3e00",
        "colab": {
          "base_uri": "https://localhost:8080/",
          "height": 697
        }
      },
      "source": [
        "train_history= model.fit(x_train, y_train,\n",
        "                    batch_size=batch_size,\n",
        "                    epochs=epochs,\n",
        "                    verbose=1,\n",
        "                    validation_split=0.2)"
      ],
      "execution_count": 11,
      "outputs": [
        {
          "output_type": "stream",
          "text": [
            "Epoch 1/20\n",
            "375/375 [==============================] - 1s 4ms/step - loss: 0.5406 - accuracy: 0.8551 - val_loss: 0.2287 - val_accuracy: 0.9333\n",
            "Epoch 2/20\n",
            "375/375 [==============================] - 1s 3ms/step - loss: 0.2312 - accuracy: 0.9318 - val_loss: 0.1682 - val_accuracy: 0.9507\n",
            "Epoch 3/20\n",
            "375/375 [==============================] - 1s 3ms/step - loss: 0.1692 - accuracy: 0.9484 - val_loss: 0.1325 - val_accuracy: 0.9613\n",
            "Epoch 4/20\n",
            "375/375 [==============================] - 1s 3ms/step - loss: 0.1330 - accuracy: 0.9602 - val_loss: 0.1137 - val_accuracy: 0.9657\n",
            "Epoch 5/20\n",
            "375/375 [==============================] - 1s 3ms/step - loss: 0.1095 - accuracy: 0.9666 - val_loss: 0.1031 - val_accuracy: 0.9674\n",
            "Epoch 6/20\n",
            "375/375 [==============================] - 1s 3ms/step - loss: 0.0903 - accuracy: 0.9729 - val_loss: 0.0958 - val_accuracy: 0.9712\n",
            "Epoch 7/20\n",
            "375/375 [==============================] - 1s 3ms/step - loss: 0.0782 - accuracy: 0.9763 - val_loss: 0.0899 - val_accuracy: 0.9747\n",
            "Epoch 8/20\n",
            "375/375 [==============================] - 1s 3ms/step - loss: 0.0685 - accuracy: 0.9790 - val_loss: 0.0896 - val_accuracy: 0.9741\n",
            "Epoch 9/20\n",
            "375/375 [==============================] - 1s 3ms/step - loss: 0.0609 - accuracy: 0.9808 - val_loss: 0.0819 - val_accuracy: 0.9761\n",
            "Epoch 10/20\n",
            "375/375 [==============================] - 1s 3ms/step - loss: 0.0523 - accuracy: 0.9841 - val_loss: 0.0817 - val_accuracy: 0.9765\n",
            "Epoch 11/20\n",
            "375/375 [==============================] - 1s 3ms/step - loss: 0.0467 - accuracy: 0.9854 - val_loss: 0.0799 - val_accuracy: 0.9762\n",
            "Epoch 12/20\n",
            "375/375 [==============================] - 1s 3ms/step - loss: 0.0420 - accuracy: 0.9870 - val_loss: 0.0800 - val_accuracy: 0.9778\n",
            "Epoch 13/20\n",
            "375/375 [==============================] - 1s 4ms/step - loss: 0.0369 - accuracy: 0.9886 - val_loss: 0.0823 - val_accuracy: 0.9768\n",
            "Epoch 14/20\n",
            "375/375 [==============================] - 1s 3ms/step - loss: 0.0334 - accuracy: 0.9897 - val_loss: 0.0793 - val_accuracy: 0.9783\n",
            "Epoch 15/20\n",
            "375/375 [==============================] - 1s 3ms/step - loss: 0.0294 - accuracy: 0.9911 - val_loss: 0.0811 - val_accuracy: 0.9786\n",
            "Epoch 16/20\n",
            "375/375 [==============================] - 1s 3ms/step - loss: 0.0269 - accuracy: 0.9915 - val_loss: 0.0779 - val_accuracy: 0.9792\n",
            "Epoch 17/20\n",
            "375/375 [==============================] - 1s 3ms/step - loss: 0.0238 - accuracy: 0.9930 - val_loss: 0.0801 - val_accuracy: 0.9797\n",
            "Epoch 18/20\n",
            "375/375 [==============================] - 1s 3ms/step - loss: 0.0222 - accuracy: 0.9934 - val_loss: 0.0800 - val_accuracy: 0.9793\n",
            "Epoch 19/20\n",
            "375/375 [==============================] - 1s 3ms/step - loss: 0.0209 - accuracy: 0.9934 - val_loss: 0.0797 - val_accuracy: 0.9792\n",
            "Epoch 20/20\n",
            "375/375 [==============================] - 1s 3ms/step - loss: 0.0175 - accuracy: 0.9947 - val_loss: 0.0867 - val_accuracy: 0.9789\n"
          ],
          "name": "stdout"
        }
      ]
    },
    {
      "cell_type": "code",
      "metadata": {
        "id": "oncuH_IVesE3",
        "colab_type": "code",
        "colab": {}
      },
      "source": [
        "score = model.evaluate(x_test, y_test, verbose=0)\n"
      ],
      "execution_count": 0,
      "outputs": []
    },
    {
      "cell_type": "code",
      "metadata": {
        "id": "j3We_aWUfDtS",
        "colab_type": "code",
        "outputId": "cffc3376-ab33-4c3c-d893-5d22a9f29da2",
        "colab": {
          "base_uri": "https://localhost:8080/",
          "height": 51
        }
      },
      "source": [
        "print('Test loss:', score[0])\n",
        "print('Test accuracy:', score[1])\n"
      ],
      "execution_count": 13,
      "outputs": [
        {
          "output_type": "stream",
          "text": [
            "Test loss: 0.0703941211104393\n",
            "Test accuracy: 0.9811000227928162\n"
          ],
          "name": "stdout"
        }
      ]
    },
    {
      "cell_type": "code",
      "metadata": {
        "id": "AWsvpHDLfunW",
        "colab_type": "code",
        "outputId": "3c78399d-aa6b-4223-d3d2-a6b7720e6ca1",
        "colab": {
          "base_uri": "https://localhost:8080/",
          "height": 573
        }
      },
      "source": [
        "import numpy as np\n",
        "import matplotlib.pyplot as plt\n",
        "\n",
        "def show_train_history(train_type, test_type):\n",
        "# Get training and test loss histories\n",
        "    plt.plot(train_history.history[train_type]) \n",
        "    plt.plot(train_history.history[test_type])\n",
        "    plt.title('Train History')\n",
        "    if train_type == 'accuracy':\n",
        "        plt.ylabel('Accuracy')\n",
        "    else:\n",
        "        plt.ylabel('Loss')\n",
        "    plt.xlabel('Epoch')\n",
        "    plt.legend(['train','test'],loc='upper left')\n",
        "    plt.show()\n",
        "show_train_history('accuracy','val_accuracy')\n",
        "show_train_history('loss','val_loss')"
      ],
      "execution_count": 14,
      "outputs": [
        {
          "output_type": "display_data",
          "data": {
            "image/png": "[encoded data removed]",
            "text/plain": [
              "<Figure size 432x288 with 1 Axes>"
            ]
          },
          "metadata": {
            "tags": [],
            "needs_background": "light"
          }
        },
        {
          "output_type": "display_data",
          "data": {
            "image/png": "[encoded data removed]",
            "text/plain": [
              "<Figure size 432x288 with 1 Axes>"
            ]
          },
          "metadata": {
            "tags": [],
            "needs_background": "light"
          }
        }
      ]
    },
    {
      "cell_type": "code",
      "metadata": {
        "id": "PLEPJj0Nh2y7",
        "colab_type": "code",
        "colab": {}
      },
      "source": [
        "# Save Keras model\n",
        "def savemodel(model, model_params_dir,name):\n",
        "    json_string = model.to_json()\n",
        "    # Save model architecture in JSON file\n",
        "    open(model_params_dir + name + '_arch.json', 'w').write(json_string)\n",
        "    # Save weights as HDF5\n",
        "    model.save_weights(model_params_dir + name + '_weights.h5')\n",
        "    print(\"Saved model to disk\")"
      ],
      "execution_count": 0,
      "outputs": []
    },
    {
      "cell_type": "code",
      "metadata": {
        "id": "h1qlVwwolqip",
        "colab_type": "code",
        "outputId": "34952302-8d74-45d7-aa95-b3141d00eddc",
        "colab": {
          "base_uri": "https://localhost:8080/",
          "height": 34
        }
      },
      "source": [
        "savemodel(model, DIR_OUT, model_name)"
      ],
      "execution_count": 16,
      "outputs": [
        {
          "output_type": "stream",
          "text": [
            "Saved model to disk\n"
          ],
          "name": "stdout"
        }
      ]
    },
    {
      "cell_type": "code",
      "metadata": {
        "id": "ic1gFG2uoHC0",
        "colab_type": "code",
        "colab": {}
      },
      "source": [
        "# Load Keras model\n",
        "def loadmodel(model_params_dir,name): \n",
        "    # Load model architecture from JSON file\n",
        "    model = keras.models.model_from_json(open(model_params_dir + name + '_arch.json').read())\n",
        "    # Load model weights from HDF5 file\n",
        "    model.load_weights(model_params_dir + name + '_weights.h5')\n",
        "    print(\"Loaded model from disk\")\n",
        "    return model"
      ],
      "execution_count": 0,
      "outputs": []
    },
    {
      "cell_type": "code",
      "metadata": {
        "id": "6AH1FIY0oXJG",
        "colab_type": "code",
        "colab": {}
      },
      "source": [
        "# Load weights only\n",
        "def loadmodelweights(model,model_params_dir,name_weightfile): \n",
        "    # Load model weights from HDF5 file\n",
        "    model.load_weights(model_params_dir + name_weightfile+'.h5')\n",
        "    print(\"Loaded model weights from disk\")\n",
        "    return model"
      ],
      "execution_count": 0,
      "outputs": []
    },
    {
      "cell_type": "code",
      "metadata": {
        "id": "e21smhv0oZ4k",
        "colab_type": "code",
        "outputId": "97555816-5581-4ba6-f3de-9004760202f8",
        "colab": {
          "base_uri": "https://localhost:8080/",
          "height": 51
        }
      },
      "source": [
        "loadmodelweights(model, DIR_OUT, model_name + '_weights')"
      ],
      "execution_count": 19,
      "outputs": [
        {
          "output_type": "stream",
          "text": [
            "Loaded model weights from disk\n"
          ],
          "name": "stdout"
        },
        {
          "output_type": "execute_result",
          "data": {
            "text/plain": [
              "<tensorflow.python.keras.engine.sequential.Sequential at 0x7f12d9957400>"
            ]
          },
          "metadata": {
            "tags": []
          },
          "execution_count": 19
        }
      ]
    },
    {
      "cell_type": "code",
      "metadata": {
        "id": "VSV77bD-orrR",
        "colab_type": "code",
        "colab": {}
      },
      "source": [
        ""
      ],
      "execution_count": 0,
      "outputs": []
    }
  ]
}