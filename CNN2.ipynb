{
  "nbformat": 4,
  "nbformat_minor": 0,
  "metadata": {
    "colab": {
      "name": "CNN2.ipynb",
      "provenance": [],
      "authorship_tag": "ABX9TyMaSo+g4gBD2xLDVRHEhIpH",
      "include_colab_link": true
    },
    "kernelspec": {
      "name": "python3",
      "display_name": "Python 3"
    },
    "accelerator": "GPU"
  },
  "cells": [
    {
      "cell_type": "markdown",
      "metadata": {
        "id": "view-in-github",
        "colab_type": "text"
      },
      "source": [
        "<a href=\"https://colab.research.google.com/github/tina043c/ML/blob/master/CNN2.ipynb\" target=\"_parent\"><img src=\"https://colab.research.google.com/assets/colab-badge.svg\" alt=\"Open In Colab\"/></a>"
      ]
    },
    {
      "cell_type": "code",
      "metadata": {
        "id": "ggF81LC4KA56",
        "colab_type": "code",
        "colab": {}
      },
      "source": [
        "import os\n",
        "os.environ['KERAS_BACKEND'] = 'tensorflow'\n",
        "from __future__ import print_function\n",
        "from tensorflow import keras\n",
        "from tensorflow.keras.datasets import mnist\n",
        "from tensorflow.keras.models import Sequential\n",
        "from tensorflow.keras.layers import Dense, Dropout\n",
        "from keras.optimizers import RMSprop"
      ],
      "execution_count": 0,
      "outputs": []
    },
    {
      "cell_type": "code",
      "metadata": {
        "id": "ylR4vEPPKMT0",
        "colab_type": "code",
        "colab": {}
      },
      "source": [
        "DIR_OUT = './'\n",
        "batch_size = 128\n",
        "num_classes = 10\n",
        "epochs = 20\n"
      ],
      "execution_count": 0,
      "outputs": []
    },
    {
      "cell_type": "code",
      "metadata": {
        "id": "vHBzfDjsKPag",
        "colab_type": "code",
        "colab": {}
      },
      "source": [
        "# input image dimensions\n",
        "img_rows, img_cols = 28, 28\n",
        "\n",
        "# the data, split between train and test sets\n",
        "(x_train, y_train), (x_test, y_test) = mnist.load_data()"
      ],
      "execution_count": 0,
      "outputs": []
    },
    {
      "cell_type": "code",
      "metadata": {
        "id": "cPvYLChaLovD",
        "colab_type": "code",
        "colab": {}
      },
      "source": [
        "\n",
        "x_train = x_train.reshape(60000, 784)\n",
        "x_test = x_test.reshape(10000, 784)\n",
        "x_train = x_train.astype('float32')\n",
        "x_test = x_test.astype('float32')\n",
        "x_train /= 255\n",
        "x_test /= 255"
      ],
      "execution_count": 0,
      "outputs": []
    },
    {
      "cell_type": "code",
      "metadata": {
        "id": "UTv5-dm-MJE3",
        "colab_type": "code",
        "outputId": "937b8d4f-d1b3-4e14-fc7f-d4f2848875fc",
        "colab": {
          "base_uri": "https://localhost:8080/",
          "height": 52
        }
      },
      "source": [
        "print(x_train.shape[0],'train samples')\n",
        "print(x_test.shape[0],'test samples')\n",
        "\n"
      ],
      "execution_count": 98,
      "outputs": [
        {
          "output_type": "stream",
          "text": [
            "60000 train samples\n",
            "10000 test samples\n"
          ],
          "name": "stdout"
        }
      ]
    },
    {
      "cell_type": "code",
      "metadata": {
        "id": "-PFkn3qsWAs5",
        "colab_type": "code",
        "colab": {}
      },
      "source": [
        "y_train = keras.utils.to_categorical(y_train, num_classes)\n",
        "y_test = keras.utils.to_categorical(y_test, num_classes)\n"
      ],
      "execution_count": 0,
      "outputs": []
    },
    {
      "cell_type": "code",
      "metadata": {
        "id": "vUKDKmIKYu1S",
        "colab_type": "code",
        "outputId": "ace96b91-e342-431f-ea2d-5a23ebd931be",
        "colab": {
          "base_uri": "https://localhost:8080/",
          "height": 478
        }
      },
      "source": [
        "model_name = 'CNN1'\n",
        "model=Sequential()\n",
        "model.add(Dense(512,activation='relu',input_shape=(784,)))\n",
        "model.add(Dropout(0.2))\n",
        "model.add(Dense(512,activation='relu'))\n",
        "# model.add(Dense(512,activation='tanh'))\n",
        "model.add(Dropout(0.2))\n",
        "\n",
        "model.add(Dense(512,activation='relu'))\n",
        "model.add(Dropout(0.2))\n",
        "model.add(Dense(512,activation='relu'))\n",
        "model.add(Dropout(0.2))\n",
        "model.add(Dense(num_classes,activation='softmax'))\n",
        "model.summary()\n",
        "\n"
      ],
      "execution_count": 100,
      "outputs": [
        {
          "output_type": "stream",
          "text": [
            "Model: \"sequential_7\"\n",
            "_________________________________________________________________\n",
            "Layer (type)                 Output Shape              Param #   \n",
            "=================================================================\n",
            "dense_30 (Dense)             (None, 512)               401920    \n",
            "_________________________________________________________________\n",
            "dropout_23 (Dropout)         (None, 512)               0         \n",
            "_________________________________________________________________\n",
            "dense_31 (Dense)             (None, 512)               262656    \n",
            "_________________________________________________________________\n",
            "dropout_24 (Dropout)         (None, 512)               0         \n",
            "_________________________________________________________________\n",
            "dense_32 (Dense)             (None, 512)               262656    \n",
            "_________________________________________________________________\n",
            "dropout_25 (Dropout)         (None, 512)               0         \n",
            "_________________________________________________________________\n",
            "dense_33 (Dense)             (None, 512)               262656    \n",
            "_________________________________________________________________\n",
            "dropout_26 (Dropout)         (None, 512)               0         \n",
            "_________________________________________________________________\n",
            "dense_34 (Dense)             (None, 10)                5130      \n",
            "=================================================================\n",
            "Total params: 1,195,018\n",
            "Trainable params: 1,195,018\n",
            "Non-trainable params: 0\n",
            "_________________________________________________________________\n"
          ],
          "name": "stdout"
        }
      ]
    },
    {
      "cell_type": "code",
      "metadata": {
        "id": "fWA7v8mxY74N",
        "colab_type": "code",
        "colab": {}
      },
      "source": [
        ""
      ],
      "execution_count": 0,
      "outputs": []
    },
    {
      "cell_type": "code",
      "metadata": {
        "id": "k47QmKH3Y9R5",
        "colab_type": "code",
        "colab": {}
      },
      "source": [
        "# # initiate RMSprop optimizer\n",
        "# opt = keras.optimizers.RMSprop(learning_rate=0.0001, decay=1e-6)\n",
        "# # Let's train the model using RMSprop\n",
        "# model.compile(loss='categorical_crossentropy',\n",
        "#               optimizer=opt,\n",
        "#               metrics=['accuracy'])\n",
        "\n",
        "# train_history= model.fit(x_train, y_train,\n",
        "#                     batch_size=batch_size,\n",
        "#                     epochs=epochs,\n",
        "#                     verbose=1,\n",
        "#                     validation_split=0.2,\n",
        "#                     shuffle=True)\n",
        "\n",
        "# score = model.evaluate(x_test, y_test, verbose=0)\n",
        "\n",
        "# print('Test score:', score[0])\n",
        "# print('Test accuracy:', score[1])\n"
      ],
      "execution_count": 0,
      "outputs": []
    },
    {
      "cell_type": "code",
      "metadata": {
        "id": "ZBoGCnGQcc27",
        "colab_type": "code",
        "outputId": "f89c6a72-db32-417c-d773-42179d62cc63",
        "colab": {
          "base_uri": "https://localhost:8080/",
          "height": 836
        }
      },
      "source": [
        "\n",
        "\n",
        "\n",
        "from keras import backend as K\n",
        "\n",
        "def recall_m(y_true, y_pred):\n",
        "    true_positives = K.sum(K.round(K.clip(y_true * y_pred, 0, 1)))\n",
        "    possible_positives = K.sum(K.round(K.clip(y_true, 0, 1)))\n",
        "    recall = true_positives / (possible_positives + K.epsilon())\n",
        "    return recall\n",
        "\n",
        "def precision_m(y_true, y_pred):\n",
        "    true_positives = K.sum(K.round(K.clip(y_true * y_pred, 0, 1)))\n",
        "    predicted_positives = K.sum(K.round(K.clip(y_pred, 0, 1)))\n",
        "    precision = true_positives / (predicted_positives + K.epsilon())\n",
        "    return precision\n",
        "\n",
        "def f1_m(y_true, y_pred):\n",
        "    precision = precision_m(y_true, y_pred)\n",
        "    recall = recall_m(y_true, y_pred)\n",
        "    return 2*((precision*recall)/(precision+recall+K.epsilon()))\n",
        "\n",
        "# compile the model\n",
        "opt = keras.optimizers.RMSprop(learning_rate=0.0001, decay=1e-6)\n",
        "model.compile(optimizer=opt, loss='binary_crossentropy', metrics=['accuracy',f1_m,precision_m, recall_m])\n",
        "\n",
        "# fit the model\n",
        "\n",
        "history = model.fit(x_test, y_test, validation_split=0.3, epochs=10, verbose=0)\n",
        "\n",
        "train_history= model.fit(x_train, y_train,\n",
        "                    batch_size=batch_size,\n",
        "                    epochs=epochs,\n",
        "                    verbose=1,\n",
        "                    validation_split=0.2,\n",
        "                    shuffle=True)\n",
        "\n",
        "\n",
        "\n",
        "# evaluate the model\n",
        "loss, accuracy, f1_score, precision, recall = model.evaluate(x_test, y_test, verbose=0)\n",
        "\n",
        "\n",
        "print('Test loss:', loss)\n",
        "print('Test accuracy:', accuracy)\n",
        "print('Test f1_score:', f1_score)\n",
        "print('Test precision:', precision)\n",
        "print('Test recall:', recall)\n"
      ],
      "execution_count": 102,
      "outputs": [
        {
          "output_type": "stream",
          "text": [
            "Epoch 1/20\n",
            "375/375 [==============================] - 3s 8ms/step - loss: 0.0349 - accuracy: 0.9392 - f1_m: 0.9404 - precision_m: 0.9515 - recall_m: 0.9296 - val_loss: 0.0230 - val_accuracy: 0.9619 - val_f1_m: 0.9618 - val_precision_m: 0.9681 - val_recall_m: 0.9556\n",
            "Epoch 2/20\n",
            "375/375 [==============================] - 3s 8ms/step - loss: 0.0270 - accuracy: 0.9525 - f1_m: 0.9533 - precision_m: 0.9621 - recall_m: 0.9448 - val_loss: 0.0197 - val_accuracy: 0.9664 - val_f1_m: 0.9668 - val_precision_m: 0.9720 - val_recall_m: 0.9617\n",
            "Epoch 3/20\n",
            "375/375 [==============================] - 3s 9ms/step - loss: 0.0225 - accuracy: 0.9612 - f1_m: 0.9615 - precision_m: 0.9684 - recall_m: 0.9547 - val_loss: 0.0181 - val_accuracy: 0.9684 - val_f1_m: 0.9689 - val_precision_m: 0.9728 - val_recall_m: 0.9651\n",
            "Epoch 4/20\n",
            "375/375 [==============================] - 3s 9ms/step - loss: 0.0190 - accuracy: 0.9678 - f1_m: 0.9683 - precision_m: 0.9734 - recall_m: 0.9632 - val_loss: 0.0169 - val_accuracy: 0.9718 - val_f1_m: 0.9724 - val_precision_m: 0.9759 - val_recall_m: 0.9691\n",
            "Epoch 5/20\n",
            "375/375 [==============================] - 3s 9ms/step - loss: 0.0168 - accuracy: 0.9707 - f1_m: 0.9714 - precision_m: 0.9761 - recall_m: 0.9669 - val_loss: 0.0163 - val_accuracy: 0.9735 - val_f1_m: 0.9735 - val_precision_m: 0.9766 - val_recall_m: 0.9705\n",
            "Epoch 6/20\n",
            "375/375 [==============================] - 3s 9ms/step - loss: 0.0148 - accuracy: 0.9751 - f1_m: 0.9752 - precision_m: 0.9791 - recall_m: 0.9714 - val_loss: 0.0162 - val_accuracy: 0.9733 - val_f1_m: 0.9735 - val_precision_m: 0.9763 - val_recall_m: 0.9708\n",
            "Epoch 7/20\n",
            "375/375 [==============================] - 3s 9ms/step - loss: 0.0136 - accuracy: 0.9774 - f1_m: 0.9777 - precision_m: 0.9812 - recall_m: 0.9743 - val_loss: 0.0158 - val_accuracy: 0.9747 - val_f1_m: 0.9750 - val_precision_m: 0.9768 - val_recall_m: 0.9733\n",
            "Epoch 8/20\n",
            "375/375 [==============================] - 3s 9ms/step - loss: 0.0118 - accuracy: 0.9799 - f1_m: 0.9801 - precision_m: 0.9828 - recall_m: 0.9774 - val_loss: 0.0158 - val_accuracy: 0.9747 - val_f1_m: 0.9750 - val_precision_m: 0.9768 - val_recall_m: 0.9732\n",
            "Epoch 9/20\n",
            "375/375 [==============================] - 3s 9ms/step - loss: 0.0105 - accuracy: 0.9816 - f1_m: 0.9819 - precision_m: 0.9843 - recall_m: 0.9795 - val_loss: 0.0149 - val_accuracy: 0.9773 - val_f1_m: 0.9773 - val_precision_m: 0.9795 - val_recall_m: 0.9751\n",
            "Epoch 10/20\n",
            "375/375 [==============================] - 3s 9ms/step - loss: 0.0099 - accuracy: 0.9830 - f1_m: 0.9833 - precision_m: 0.9857 - recall_m: 0.9809 - val_loss: 0.0156 - val_accuracy: 0.9768 - val_f1_m: 0.9770 - val_precision_m: 0.9788 - val_recall_m: 0.9753\n",
            "Epoch 11/20\n",
            "375/375 [==============================] - 3s 9ms/step - loss: 0.0089 - accuracy: 0.9852 - f1_m: 0.9854 - precision_m: 0.9872 - recall_m: 0.9837 - val_loss: 0.0156 - val_accuracy: 0.9763 - val_f1_m: 0.9767 - val_precision_m: 0.9780 - val_recall_m: 0.9755\n",
            "Epoch 12/20\n",
            "375/375 [==============================] - 3s 9ms/step - loss: 0.0079 - accuracy: 0.9865 - f1_m: 0.9865 - precision_m: 0.9881 - recall_m: 0.9850 - val_loss: 0.0157 - val_accuracy: 0.9773 - val_f1_m: 0.9773 - val_precision_m: 0.9785 - val_recall_m: 0.9761\n",
            "Epoch 13/20\n",
            "375/375 [==============================] - 3s 9ms/step - loss: 0.0071 - accuracy: 0.9879 - f1_m: 0.9879 - precision_m: 0.9892 - recall_m: 0.9867 - val_loss: 0.0170 - val_accuracy: 0.9770 - val_f1_m: 0.9769 - val_precision_m: 0.9784 - val_recall_m: 0.9755\n",
            "Epoch 14/20\n",
            "375/375 [==============================] - 3s 9ms/step - loss: 0.0068 - accuracy: 0.9884 - f1_m: 0.9886 - precision_m: 0.9898 - recall_m: 0.9874 - val_loss: 0.0161 - val_accuracy: 0.9783 - val_f1_m: 0.9785 - val_precision_m: 0.9796 - val_recall_m: 0.9774\n",
            "Epoch 15/20\n",
            "375/375 [==============================] - 3s 9ms/step - loss: 0.0062 - accuracy: 0.9896 - f1_m: 0.9896 - precision_m: 0.9908 - recall_m: 0.9885 - val_loss: 0.0159 - val_accuracy: 0.9779 - val_f1_m: 0.9778 - val_precision_m: 0.9789 - val_recall_m: 0.9767\n",
            "Epoch 16/20\n",
            "375/375 [==============================] - 3s 9ms/step - loss: 0.0057 - accuracy: 0.9905 - f1_m: 0.9906 - precision_m: 0.9917 - recall_m: 0.9895 - val_loss: 0.0166 - val_accuracy: 0.9793 - val_f1_m: 0.9798 - val_precision_m: 0.9811 - val_recall_m: 0.9785\n",
            "Epoch 17/20\n",
            "375/375 [==============================] - 3s 9ms/step - loss: 0.0054 - accuracy: 0.9907 - f1_m: 0.9907 - precision_m: 0.9917 - recall_m: 0.9898 - val_loss: 0.0162 - val_accuracy: 0.9789 - val_f1_m: 0.9793 - val_precision_m: 0.9803 - val_recall_m: 0.9783\n",
            "Epoch 18/20\n",
            "375/375 [==============================] - 3s 9ms/step - loss: 0.0046 - accuracy: 0.9922 - f1_m: 0.9922 - precision_m: 0.9930 - recall_m: 0.9914 - val_loss: 0.0172 - val_accuracy: 0.9790 - val_f1_m: 0.9793 - val_precision_m: 0.9800 - val_recall_m: 0.9786\n",
            "Epoch 19/20\n",
            "375/375 [==============================] - 4s 10ms/step - loss: 0.0045 - accuracy: 0.9925 - f1_m: 0.9925 - precision_m: 0.9932 - recall_m: 0.9918 - val_loss: 0.0179 - val_accuracy: 0.9787 - val_f1_m: 0.9786 - val_precision_m: 0.9796 - val_recall_m: 0.9777\n",
            "Epoch 20/20\n",
            "375/375 [==============================] - 4s 10ms/step - loss: 0.0044 - accuracy: 0.9928 - f1_m: 0.9929 - precision_m: 0.9936 - recall_m: 0.9922 - val_loss: 0.0173 - val_accuracy: 0.9795 - val_f1_m: 0.9798 - val_precision_m: 0.9806 - val_recall_m: 0.9789\n",
            "Test loss: 0.010723515413701534\n",
            "Test accuracy: 0.9857000112533569\n",
            "Test f1_score: 0.9855532646179199\n",
            "Test precision: 0.9864120483398438\n",
            "Test recall: 0.9847244620323181\n"
          ],
          "name": "stdout"
        }
      ]
    },
    {
      "cell_type": "code",
      "metadata": {
        "id": "lVOKSfuj4slI",
        "colab_type": "code",
        "colab": {}
      },
      "source": [
        "\n"
      ],
      "execution_count": 0,
      "outputs": []
    },
    {
      "cell_type": "code",
      "metadata": {
        "id": "9nOE9NeS4mO3",
        "colab_type": "code",
        "colab": {}
      },
      "source": [
        ""
      ],
      "execution_count": 0,
      "outputs": []
    },
    {
      "cell_type": "code",
      "metadata": {
        "id": "u7uEUH--ye6u",
        "colab_type": "code",
        "colab": {}
      },
      "source": [
        ""
      ],
      "execution_count": 0,
      "outputs": []
    },
    {
      "cell_type": "code",
      "metadata": {
        "id": "xu0qHRMBycuy",
        "colab_type": "code",
        "colab": {}
      },
      "source": [
        ""
      ],
      "execution_count": 0,
      "outputs": []
    },
    {
      "cell_type": "code",
      "metadata": {
        "id": "jhnCmV8Lvm7t",
        "colab_type": "code",
        "colab": {}
      },
      "source": [
        ""
      ],
      "execution_count": 0,
      "outputs": []
    },
    {
      "cell_type": "code",
      "metadata": {
        "id": "oncuH_IVesE3",
        "colab_type": "code",
        "colab": {}
      },
      "source": [
        "\n"
      ],
      "execution_count": 0,
      "outputs": []
    },
    {
      "cell_type": "code",
      "metadata": {
        "id": "j3We_aWUfDtS",
        "colab_type": "code",
        "colab": {}
      },
      "source": [
        "\n"
      ],
      "execution_count": 0,
      "outputs": []
    },
    {
      "cell_type": "code",
      "metadata": {
        "id": "AWsvpHDLfunW",
        "colab_type": "code",
        "outputId": "f43d7c34-c3b5-4add-8fe3-43feba00288c",
        "colab": {
          "base_uri": "https://localhost:8080/",
          "height": 1000
        }
      },
      "source": [
        "import numpy as np\n",
        "import matplotlib.pyplot as plt\n",
        "\n",
        "def show_train_history(train_type, test_type):\n",
        "# Get training and test loss histories\n",
        "    plt.plot(train_history.history[train_type]) \n",
        "    plt.plot(train_history.history[test_type])\n",
        "    plt.title('Train History')\n",
        "    if train_type == 'accuracy':\n",
        "        plt.ylabel('Accuracy')\n",
        "    elif train_type == 'loss':\n",
        "        plt.ylabel('Loss')\n",
        "    elif train_type == 'f1_m':\n",
        "        plt.ylabel('F1_score')\n",
        "    elif train_type == 'precision_m':\n",
        "        plt.ylabel('Precision')\n",
        "    else:\n",
        "        plt.ylabel('Recall')\n",
        "    plt.xlabel('Epoch')\n",
        "    plt.legend(['train','test'],loc='upper left')\n",
        "    plt.show()\n",
        "show_train_history('accuracy','val_accuracy')\n",
        "show_train_history('loss','val_loss')\n",
        "show_train_history('f1_m','val_f1_m')\n",
        "show_train_history('precision_m','val_precision_m')\n",
        "show_train_history('recall_m','val_recall_m')\n",
        "\n",
        "\n"
      ],
      "execution_count": 103,
      "outputs": [
        {
          "output_type": "display_data",
          "data": {
            "image/png": "[encoded data removed]",
            "text/plain": [
              "<Figure size 432x288 with 1 Axes>"
            ]
          },
          "metadata": {
            "tags": [],
            "needs_background": "light"
          }
        },
        {
          "output_type": "display_data",
          "data": {
            "image/png": "[encoded data removed]",
            "text/plain": [
              "<Figure size 432x288 with 1 Axes>"
            ]
          },
          "metadata": {
            "tags": [],
            "needs_background": "light"
          }
        },
        {
          "output_type": "display_data",
          "data": {
            "image/png": "[encoded data removed]",
            "text/plain": [
              "<Figure size 432x288 with 1 Axes>"
            ]
          },
          "metadata": {
            "tags": [],
            "needs_background": "light"
          }
        },
        {
          "output_type": "display_data",
          "data": {
            "image/png": "[encoded data removed]",
            "text/plain": [
              "<Figure size 432x288 with 1 Axes>"
            ]
          },
          "metadata": {
            "tags": [],
            "needs_background": "light"
          }
        },
        {
          "output_type": "display_data",
          "data": {
            "image/png": "[encoded data removed]",
            "text/plain": [
              "<Figure size 432x288 with 1 Axes>"
            ]
          },
          "metadata": {
            "tags": [],
            "needs_background": "light"
          }
        }
      ]
    },
    {
      "cell_type": "code",
      "metadata": {
        "id": "PLEPJj0Nh2y7",
        "colab_type": "code",
        "colab": {}
      },
      "source": [
        "# Save Keras model\n",
        "def savemodel(model, model_params_dir,name):\n",
        "    json_string = model.to_json()\n",
        "    # Save model architecture in JSON file\n",
        "    open(model_params_dir + name + '_arch.json', 'w').write(json_string)\n",
        "    # Save weights as HDF5\n",
        "    model.save_weights(model_params_dir + name + '_weights.h5')\n",
        "    print(\"Saved model to disk\")"
      ],
      "execution_count": 0,
      "outputs": []
    },
    {
      "cell_type": "code",
      "metadata": {
        "id": "h1qlVwwolqip",
        "colab_type": "code",
        "outputId": "639c2cd5-e0d7-43b2-e0ee-44961ba5a061",
        "colab": {
          "base_uri": "https://localhost:8080/",
          "height": 34
        }
      },
      "source": [
        "savemodel(model, DIR_OUT, model_name)"
      ],
      "execution_count": 105,
      "outputs": [
        {
          "output_type": "stream",
          "text": [
            "Saved model to disk\n"
          ],
          "name": "stdout"
        }
      ]
    },
    {
      "cell_type": "code",
      "metadata": {
        "id": "ic1gFG2uoHC0",
        "colab_type": "code",
        "colab": {}
      },
      "source": [
        "# Load Keras model\n",
        "def loadmodel(model_params_dir,name): \n",
        "    # Load model architecture from JSON file\n",
        "    model = keras.models.model_from_json(open(model_params_dir + name + '_arch.json').read())\n",
        "    # Load model weights from HDF5 file\n",
        "    model.load_weights(model_params_dir + name + '_weights.h5')\n",
        "    print(\"Loaded model from disk\")\n",
        "    return model"
      ],
      "execution_count": 0,
      "outputs": []
    },
    {
      "cell_type": "code",
      "metadata": {
        "id": "6AH1FIY0oXJG",
        "colab_type": "code",
        "colab": {}
      },
      "source": [
        "# Load weights only\n",
        "def loadmodelweights(model,model_params_dir,name_weightfile): \n",
        "    # Load model weights from HDF5 file\n",
        "    model.load_weights(model_params_dir + name_weightfile+'.h5')\n",
        "    print(\"Loaded model weights from disk\")\n",
        "    return model"
      ],
      "execution_count": 0,
      "outputs": []
    },
    {
      "cell_type": "code",
      "metadata": {
        "id": "e21smhv0oZ4k",
        "colab_type": "code",
        "outputId": "54fa0044-c9b8-4afd-c759-66e61377eca3",
        "colab": {
          "base_uri": "https://localhost:8080/",
          "height": 52
        }
      },
      "source": [
        "loadmodelweights(model, DIR_OUT, model_name + '_weights')"
      ],
      "execution_count": 108,
      "outputs": [
        {
          "output_type": "stream",
          "text": [
            "Loaded model weights from disk\n"
          ],
          "name": "stdout"
        },
        {
          "output_type": "execute_result",
          "data": {
            "text/plain": [
              "<tensorflow.python.keras.engine.sequential.Sequential at 0x7f9b47e76be0>"
            ]
          },
          "metadata": {
            "tags": []
          },
          "execution_count": 108
        }
      ]
    },
    {
      "cell_type": "code",
      "metadata": {
        "id": "VSV77bD-orrR",
        "colab_type": "code",
        "colab": {}
      },
      "source": [
        ""
      ],
      "execution_count": 0,
      "outputs": []
    }
  ]
}