{
  "nbformat": 4,
  "nbformat_minor": 0,
  "metadata": {
    "colab": {
      "name": "CNN2.ipynb",
      "provenance": [],
      "authorship_tag": "ABX9TyMX17JH7O+4cO0uZjK3FI19",
      "include_colab_link": true
    },
    "kernelspec": {
      "name": "python3",
      "display_name": "Python 3"
    },
    "accelerator": "GPU"
  },
  "cells": [
    {
      "cell_type": "markdown",
      "metadata": {
        "id": "view-in-github",
        "colab_type": "text"
      },
      "source": [
        "<a href=\"https://colab.research.google.com/github/tina043c/ML/blob/master/CNN2.ipynb\" target=\"_parent\"><img src=\"https://colab.research.google.com/assets/colab-badge.svg\" alt=\"Open In Colab\"/></a>"
      ]
    },
    {
      "cell_type": "code",
      "metadata": {
        "id": "ggF81LC4KA56",
        "colab_type": "code",
        "colab": {}
      },
      "source": [
        "import os\n",
        "os.environ['KERAS_BACKEND'] = 'tensorflow'\n",
        "from __future__ import print_function\n",
        "from tensorflow import keras\n",
        "from tensorflow.keras.datasets import mnist\n",
        "from tensorflow.keras.models import Sequential\n",
        "from tensorflow.keras.layers import Dense, Dropout\n",
        "from keras.optimizers import RMSprop"
      ],
      "execution_count": 0,
      "outputs": []
    },
    {
      "cell_type": "code",
      "metadata": {
        "id": "ylR4vEPPKMT0",
        "colab_type": "code",
        "colab": {}
      },
      "source": [
        "DIR_OUT = './'\n",
        "batch_size = 128\n",
        "num_classes = 10\n",
        "epochs = 20\n"
      ],
      "execution_count": 0,
      "outputs": []
    },
    {
      "cell_type": "code",
      "metadata": {
        "id": "vHBzfDjsKPag",
        "colab_type": "code",
        "colab": {}
      },
      "source": [
        "# input image dimensions\n",
        "img_rows, img_cols = 28, 28\n",
        "\n",
        "# the data, split between train and test sets\n",
        "(x_train, y_train), (x_test, y_test) = mnist.load_data()"
      ],
      "execution_count": 0,
      "outputs": []
    },
    {
      "cell_type": "code",
      "metadata": {
        "id": "cPvYLChaLovD",
        "colab_type": "code",
        "colab": {}
      },
      "source": [
        "\n",
        "x_train = x_train.reshape(60000, 784)\n",
        "x_test = x_test.reshape(10000, 784)\n",
        "x_train = x_train.astype('float32')\n",
        "x_test = x_test.astype('float32')\n",
        "x_train /= 255\n",
        "x_test /= 255"
      ],
      "execution_count": 0,
      "outputs": []
    },
    {
      "cell_type": "code",
      "metadata": {
        "id": "UTv5-dm-MJE3",
        "colab_type": "code",
        "outputId": "4ca5b8e7-bff6-4dae-9123-3e7db65fd998",
        "colab": {
          "base_uri": "https://localhost:8080/",
          "height": 52
        }
      },
      "source": [
        "print(x_train.shape[0],'train samples')\n",
        "print(x_test.shape[0],'test samples')\n",
        "\n"
      ],
      "execution_count": 36,
      "outputs": [
        {
          "output_type": "stream",
          "text": [
            "60000 train samples\n",
            "10000 test samples\n"
          ],
          "name": "stdout"
        }
      ]
    },
    {
      "cell_type": "code",
      "metadata": {
        "id": "-PFkn3qsWAs5",
        "colab_type": "code",
        "colab": {}
      },
      "source": [
        "y_train = keras.utils.to_categorical(y_train, num_classes)\n",
        "y_test = keras.utils.to_categorical(y_test, num_classes)\n"
      ],
      "execution_count": 0,
      "outputs": []
    },
    {
      "cell_type": "code",
      "metadata": {
        "id": "vUKDKmIKYu1S",
        "colab_type": "code",
        "outputId": "fc332771-7208-44bc-fc39-561366ec92ee",
        "colab": {
          "base_uri": "https://localhost:8080/",
          "height": 336
        }
      },
      "source": [
        "model_name = 'CNN1'\n",
        "model=Sequential()\n",
        "model.add(Dense(512,activation='relu',input_shape=(784,)))\n",
        "model.add(Dropout(0.2))\n",
        "model.add(Dense(512,activation='relu'))\n",
        "# model.add(Dense(512,activation='tanh'))\n",
        "model.add(Dropout(0.2))\n",
        "\n",
        "# model.add(Dense(512,activation='relu'))\n",
        "# model.add(Dropout(0.2))\n",
        "# model.add(Dense(512,activation='relu'))\n",
        "# model.add(Dropout(0.2))\n",
        "model.add(Dense(num_classes,activation='softmax'))\n",
        "model.summary()\n",
        "\n"
      ],
      "execution_count": 38,
      "outputs": [
        {
          "output_type": "stream",
          "text": [
            "Model: \"sequential_2\"\n",
            "_________________________________________________________________\n",
            "Layer (type)                 Output Shape              Param #   \n",
            "=================================================================\n",
            "dense_9 (Dense)              (None, 512)               401920    \n",
            "_________________________________________________________________\n",
            "dropout_7 (Dropout)          (None, 512)               0         \n",
            "_________________________________________________________________\n",
            "dense_10 (Dense)             (None, 512)               262656    \n",
            "_________________________________________________________________\n",
            "dropout_8 (Dropout)          (None, 512)               0         \n",
            "_________________________________________________________________\n",
            "dense_11 (Dense)             (None, 10)                5130      \n",
            "=================================================================\n",
            "Total params: 669,706\n",
            "Trainable params: 669,706\n",
            "Non-trainable params: 0\n",
            "_________________________________________________________________\n"
          ],
          "name": "stdout"
        }
      ]
    },
    {
      "cell_type": "code",
      "metadata": {
        "id": "fWA7v8mxY74N",
        "colab_type": "code",
        "colab": {}
      },
      "source": [
        ""
      ],
      "execution_count": 0,
      "outputs": []
    },
    {
      "cell_type": "code",
      "metadata": {
        "id": "k47QmKH3Y9R5",
        "colab_type": "code",
        "colab": {}
      },
      "source": [
        "# # initiate RMSprop optimizer\n",
        "# opt = keras.optimizers.RMSprop(learning_rate=0.0001, decay=1e-6)\n",
        "# # Let's train the model using RMSprop\n",
        "# model.compile(loss='categorical_crossentropy',\n",
        "#               optimizer=opt,\n",
        "#               metrics=['accuracy'])\n",
        "\n",
        "# train_history= model.fit(x_train, y_train,\n",
        "#                     batch_size=batch_size,\n",
        "#                     epochs=epochs,\n",
        "#                     verbose=1,\n",
        "#                     validation_split=0.2,\n",
        "#                     shuffle=True)\n",
        "\n",
        "# score = model.evaluate(x_test, y_test, verbose=0)\n",
        "\n",
        "# print('Test score:', score[0])\n",
        "# print('Test accuracy:', score[1])\n"
      ],
      "execution_count": 0,
      "outputs": []
    },
    {
      "cell_type": "code",
      "metadata": {
        "id": "ZBoGCnGQcc27",
        "colab_type": "code",
        "outputId": "b1e46f20-be24-4b4c-bcfe-19123269f175",
        "colab": {
          "base_uri": "https://localhost:8080/",
          "height": 836
        }
      },
      "source": [
        "\n",
        "\n",
        "\n",
        "from keras import backend as K\n",
        "\n",
        "def recall_m(y_true, y_pred):\n",
        "    true_positives = K.sum(K.round(K.clip(y_true * y_pred, 0, 1)))\n",
        "    possible_positives = K.sum(K.round(K.clip(y_true, 0, 1)))\n",
        "    recall = true_positives / (possible_positives + K.epsilon())\n",
        "    return recall\n",
        "\n",
        "def precision_m(y_true, y_pred):\n",
        "    true_positives = K.sum(K.round(K.clip(y_true * y_pred, 0, 1)))\n",
        "    predicted_positives = K.sum(K.round(K.clip(y_pred, 0, 1)))\n",
        "    precision = true_positives / (predicted_positives + K.epsilon())\n",
        "    return precision\n",
        "\n",
        "def f1_m(y_true, y_pred):\n",
        "    precision = precision_m(y_true, y_pred)\n",
        "    recall = recall_m(y_true, y_pred)\n",
        "    return 2*((precision*recall)/(precision+recall+K.epsilon()))\n",
        "\n",
        "# compile the model\n",
        "opt = keras.optimizers.RMSprop(learning_rate=0.0001, decay=1e-6)\n",
        "model.compile(optimizer=opt, loss='binary_crossentropy', metrics=['accuracy',f1_m,precision_m, recall_m])\n",
        "\n",
        "# fit the model\n",
        "\n",
        "history = model.fit(x_test, y_test, validation_split=0.3, epochs=10, verbose=0)\n",
        "\n",
        "train_history= model.fit(x_train, y_train,\n",
        "                    batch_size=batch_size,\n",
        "                    epochs=epochs,\n",
        "                    verbose=1,\n",
        "                    validation_split=0.2,\n",
        "                    shuffle=True)\n",
        "\n",
        "\n",
        "\n",
        "# evaluate the model\n",
        "loss, accuracy, f1_score, precision, recall = model.evaluate(x_test, y_test, verbose=0)\n",
        "\n",
        "\n",
        "print('Test loss:', loss)\n",
        "print('Test accuracy:', accuracy)\n",
        "print('Test f1_score:', f1_score)\n",
        "print('Test precision:', precision)\n",
        "print('Test recall:', recall)\n"
      ],
      "execution_count": 40,
      "outputs": [
        {
          "output_type": "stream",
          "text": [
            "Epoch 1/20\n",
            "375/375 [==============================] - 3s 7ms/step - loss: 0.0362 - accuracy: 0.9367 - f1_m: 0.9380 - precision_m: 0.9509 - recall_m: 0.9255 - val_loss: 0.0263 - val_accuracy: 0.9557 - val_f1_m: 0.9566 - val_precision_m: 0.9660 - val_recall_m: 0.9475\n",
            "Epoch 2/20\n",
            "375/375 [==============================] - 3s 7ms/step - loss: 0.0291 - accuracy: 0.9508 - f1_m: 0.9520 - precision_m: 0.9627 - recall_m: 0.9416 - val_loss: 0.0228 - val_accuracy: 0.9608 - val_f1_m: 0.9623 - val_precision_m: 0.9698 - val_recall_m: 0.9549\n",
            "Epoch 3/20\n",
            "375/375 [==============================] - 3s 7ms/step - loss: 0.0246 - accuracy: 0.9582 - f1_m: 0.9589 - precision_m: 0.9681 - recall_m: 0.9499 - val_loss: 0.0206 - val_accuracy: 0.9653 - val_f1_m: 0.9667 - val_precision_m: 0.9727 - val_recall_m: 0.9609\n",
            "Epoch 4/20\n",
            "375/375 [==============================] - 3s 7ms/step - loss: 0.0218 - accuracy: 0.9629 - f1_m: 0.9636 - precision_m: 0.9708 - recall_m: 0.9565 - val_loss: 0.0190 - val_accuracy: 0.9685 - val_f1_m: 0.9687 - val_precision_m: 0.9741 - val_recall_m: 0.9635\n",
            "Epoch 5/20\n",
            "375/375 [==============================] - 3s 7ms/step - loss: 0.0190 - accuracy: 0.9686 - f1_m: 0.9689 - precision_m: 0.9754 - recall_m: 0.9625 - val_loss: 0.0178 - val_accuracy: 0.9702 - val_f1_m: 0.9706 - val_precision_m: 0.9752 - val_recall_m: 0.9662\n",
            "Epoch 6/20\n",
            "375/375 [==============================] - 3s 7ms/step - loss: 0.0172 - accuracy: 0.9715 - f1_m: 0.9715 - precision_m: 0.9768 - recall_m: 0.9663 - val_loss: 0.0173 - val_accuracy: 0.9710 - val_f1_m: 0.9716 - val_precision_m: 0.9757 - val_recall_m: 0.9674\n",
            "Epoch 7/20\n",
            "375/375 [==============================] - 3s 7ms/step - loss: 0.0158 - accuracy: 0.9739 - f1_m: 0.9742 - precision_m: 0.9791 - recall_m: 0.9694 - val_loss: 0.0161 - val_accuracy: 0.9718 - val_f1_m: 0.9726 - val_precision_m: 0.9766 - val_recall_m: 0.9687\n",
            "Epoch 8/20\n",
            "375/375 [==============================] - 3s 7ms/step - loss: 0.0141 - accuracy: 0.9765 - f1_m: 0.9771 - precision_m: 0.9811 - recall_m: 0.9731 - val_loss: 0.0162 - val_accuracy: 0.9727 - val_f1_m: 0.9729 - val_precision_m: 0.9760 - val_recall_m: 0.9698\n",
            "Epoch 9/20\n",
            "375/375 [==============================] - 3s 7ms/step - loss: 0.0132 - accuracy: 0.9776 - f1_m: 0.9781 - precision_m: 0.9814 - recall_m: 0.9748 - val_loss: 0.0152 - val_accuracy: 0.9751 - val_f1_m: 0.9749 - val_precision_m: 0.9785 - val_recall_m: 0.9714\n",
            "Epoch 10/20\n",
            "375/375 [==============================] - 3s 7ms/step - loss: 0.0122 - accuracy: 0.9799 - f1_m: 0.9802 - precision_m: 0.9834 - recall_m: 0.9770 - val_loss: 0.0147 - val_accuracy: 0.9752 - val_f1_m: 0.9753 - val_precision_m: 0.9782 - val_recall_m: 0.9724\n",
            "Epoch 11/20\n",
            "375/375 [==============================] - 3s 7ms/step - loss: 0.0109 - accuracy: 0.9817 - f1_m: 0.9823 - precision_m: 0.9853 - recall_m: 0.9794 - val_loss: 0.0147 - val_accuracy: 0.9751 - val_f1_m: 0.9752 - val_precision_m: 0.9776 - val_recall_m: 0.9728\n",
            "Epoch 12/20\n",
            "375/375 [==============================] - 3s 7ms/step - loss: 0.0103 - accuracy: 0.9826 - f1_m: 0.9830 - precision_m: 0.9859 - recall_m: 0.9802 - val_loss: 0.0141 - val_accuracy: 0.9768 - val_f1_m: 0.9770 - val_precision_m: 0.9793 - val_recall_m: 0.9747\n",
            "Epoch 13/20\n",
            "375/375 [==============================] - 3s 7ms/step - loss: 0.0096 - accuracy: 0.9842 - f1_m: 0.9847 - precision_m: 0.9871 - recall_m: 0.9824 - val_loss: 0.0141 - val_accuracy: 0.9777 - val_f1_m: 0.9773 - val_precision_m: 0.9794 - val_recall_m: 0.9752\n",
            "Epoch 14/20\n",
            "375/375 [==============================] - 3s 7ms/step - loss: 0.0087 - accuracy: 0.9859 - f1_m: 0.9858 - precision_m: 0.9882 - recall_m: 0.9835 - val_loss: 0.0141 - val_accuracy: 0.9782 - val_f1_m: 0.9781 - val_precision_m: 0.9804 - val_recall_m: 0.9758\n",
            "Epoch 15/20\n",
            "375/375 [==============================] - 3s 7ms/step - loss: 0.0082 - accuracy: 0.9867 - f1_m: 0.9867 - precision_m: 0.9886 - recall_m: 0.9849 - val_loss: 0.0140 - val_accuracy: 0.9782 - val_f1_m: 0.9777 - val_precision_m: 0.9798 - val_recall_m: 0.9756\n",
            "Epoch 16/20\n",
            "375/375 [==============================] - 3s 7ms/step - loss: 0.0075 - accuracy: 0.9878 - f1_m: 0.9879 - precision_m: 0.9895 - recall_m: 0.9863 - val_loss: 0.0136 - val_accuracy: 0.9790 - val_f1_m: 0.9792 - val_precision_m: 0.9812 - val_recall_m: 0.9773\n",
            "Epoch 17/20\n",
            "375/375 [==============================] - 3s 7ms/step - loss: 0.0071 - accuracy: 0.9892 - f1_m: 0.9893 - precision_m: 0.9908 - recall_m: 0.9878 - val_loss: 0.0137 - val_accuracy: 0.9783 - val_f1_m: 0.9784 - val_precision_m: 0.9799 - val_recall_m: 0.9770\n",
            "Epoch 18/20\n",
            "375/375 [==============================] - 3s 7ms/step - loss: 0.0067 - accuracy: 0.9890 - f1_m: 0.9892 - precision_m: 0.9907 - recall_m: 0.9876 - val_loss: 0.0135 - val_accuracy: 0.9800 - val_f1_m: 0.9800 - val_precision_m: 0.9817 - val_recall_m: 0.9783\n",
            "Epoch 19/20\n",
            "375/375 [==============================] - 3s 7ms/step - loss: 0.0060 - accuracy: 0.9908 - f1_m: 0.9907 - precision_m: 0.9920 - recall_m: 0.9894 - val_loss: 0.0136 - val_accuracy: 0.9804 - val_f1_m: 0.9806 - val_precision_m: 0.9822 - val_recall_m: 0.9790\n",
            "Epoch 20/20\n",
            "375/375 [==============================] - 3s 7ms/step - loss: 0.0059 - accuracy: 0.9906 - f1_m: 0.9909 - precision_m: 0.9921 - recall_m: 0.9896 - val_loss: 0.0137 - val_accuracy: 0.9800 - val_f1_m: 0.9803 - val_precision_m: 0.9817 - val_recall_m: 0.9789\n",
            "Test loss: 0.00974183902144432\n",
            "Test accuracy: 0.9832000136375427\n",
            "Test f1_score: 0.9837178587913513\n",
            "Test precision: 0.9852648973464966\n",
            "Test recall: 0.9822284579277039\n"
          ],
          "name": "stdout"
        }
      ]
    },
    {
      "cell_type": "code",
      "metadata": {
        "id": "lVOKSfuj4slI",
        "colab_type": "code",
        "colab": {}
      },
      "source": [
        "\n"
      ],
      "execution_count": 0,
      "outputs": []
    },
    {
      "cell_type": "code",
      "metadata": {
        "id": "9nOE9NeS4mO3",
        "colab_type": "code",
        "colab": {}
      },
      "source": [
        ""
      ],
      "execution_count": 0,
      "outputs": []
    },
    {
      "cell_type": "code",
      "metadata": {
        "id": "u7uEUH--ye6u",
        "colab_type": "code",
        "colab": {}
      },
      "source": [
        ""
      ],
      "execution_count": 0,
      "outputs": []
    },
    {
      "cell_type": "code",
      "metadata": {
        "id": "xu0qHRMBycuy",
        "colab_type": "code",
        "colab": {}
      },
      "source": [
        ""
      ],
      "execution_count": 0,
      "outputs": []
    },
    {
      "cell_type": "code",
      "metadata": {
        "id": "jhnCmV8Lvm7t",
        "colab_type": "code",
        "colab": {}
      },
      "source": [
        ""
      ],
      "execution_count": 0,
      "outputs": []
    },
    {
      "cell_type": "code",
      "metadata": {
        "id": "oncuH_IVesE3",
        "colab_type": "code",
        "colab": {}
      },
      "source": [
        "\n"
      ],
      "execution_count": 0,
      "outputs": []
    },
    {
      "cell_type": "code",
      "metadata": {
        "id": "j3We_aWUfDtS",
        "colab_type": "code",
        "colab": {}
      },
      "source": [
        "\n"
      ],
      "execution_count": 0,
      "outputs": []
    },
    {
      "cell_type": "code",
      "metadata": {
        "id": "AWsvpHDLfunW",
        "colab_type": "code",
        "outputId": "46684c65-5207-4087-bf9c-c3a984620b97",
        "colab": {
          "base_uri": "https://localhost:8080/",
          "height": 1000
        }
      },
      "source": [
        "import numpy as np\n",
        "import matplotlib.pyplot as plt\n",
        "\n",
        "def show_train_history(train_type, test_type):\n",
        "# Get training and test loss histories\n",
        "    plt.plot(train_history.history[train_type]) \n",
        "    plt.plot(train_history.history[test_type])\n",
        "    plt.title('Train History')\n",
        "    if train_type == 'accuracy':\n",
        "        plt.ylabel('Accuracy')\n",
        "    elif train_type == 'loss':\n",
        "        plt.ylabel('Loss')\n",
        "    elif train_type == 'f1_score':\n",
        "        plt.ylabel('F1_score')\n",
        "    elif train_type == 'precision':\n",
        "        plt.ylabel('Precision')\n",
        "    else:\n",
        "        plt.ylabel('Recall')\n",
        "    plt.xlabel('Epoch')\n",
        "    plt.legend(['train','test'],loc='upper left')\n",
        "    plt.show()\n",
        "show_train_history('accuracy','val_accuracy')\n",
        "show_train_history('loss','val_loss')\n",
        "show_train_history('f1_m','val_f1_m')\n",
        "show_train_history('precision_m','val_precision_m')\n",
        "show_train_history('recall_m','val_recall_m')\n",
        "\n",
        "\n"
      ],
      "execution_count": 41,
      "outputs": [
        {
          "output_type": "display_data",
          "data": {
            "image/png": "[encoded data removed]",
            "text/plain": [
              "<Figure size 432x288 with 1 Axes>"
            ]
          },
          "metadata": {
            "tags": [],
            "needs_background": "light"
          }
        },
        {
          "output_type": "display_data",
          "data": {
            "image/png": "[encoded data removed]",
            "text/plain": [
              "<Figure size 432x288 with 1 Axes>"
            ]
          },
          "metadata": {
            "tags": [],
            "needs_background": "light"
          }
        },
        {
          "output_type": "display_data",
          "data": {
            "image/png": "[encoded data removed]",
            "text/plain": [
              "<Figure size 432x288 with 1 Axes>"
            ]
          },
          "metadata": {
            "tags": [],
            "needs_background": "light"
          }
        },
        {
          "output_type": "display_data",
          "data": {
            "image/png": "[encoded data removed]",
            "text/plain": [
              "<Figure size 432x288 with 1 Axes>"
            ]
          },
          "metadata": {
            "tags": [],
            "needs_background": "light"
          }
        },
        {
          "output_type": "display_data",
          "data": {
            "image/png": "[encoded data removed]",
            "text/plain": [
              "<Figure size 432x288 with 1 Axes>"
            ]
          },
          "metadata": {
            "tags": [],
            "needs_background": "light"
          }
        }
      ]
    },
    {
      "cell_type": "code",
      "metadata": {
        "id": "PLEPJj0Nh2y7",
        "colab_type": "code",
        "colab": {}
      },
      "source": [
        "# Save Keras model\n",
        "def savemodel(model, model_params_dir,name):\n",
        "    json_string = model.to_json()\n",
        "    # Save model architecture in JSON file\n",
        "    open(model_params_dir + name + '_arch.json', 'w').write(json_string)\n",
        "    # Save weights as HDF5\n",
        "    model.save_weights(model_params_dir + name + '_weights.h5')\n",
        "    print(\"Saved model to disk\")"
      ],
      "execution_count": 0,
      "outputs": []
    },
    {
      "cell_type": "code",
      "metadata": {
        "id": "h1qlVwwolqip",
        "colab_type": "code",
        "outputId": "92b6ae0b-2011-493c-9a30-84aed1e111ef",
        "colab": {
          "base_uri": "https://localhost:8080/",
          "height": 34
        }
      },
      "source": [
        "savemodel(model, DIR_OUT, model_name)"
      ],
      "execution_count": 43,
      "outputs": [
        {
          "output_type": "stream",
          "text": [
            "Saved model to disk\n"
          ],
          "name": "stdout"
        }
      ]
    },
    {
      "cell_type": "code",
      "metadata": {
        "id": "ic1gFG2uoHC0",
        "colab_type": "code",
        "colab": {}
      },
      "source": [
        "# Load Keras model\n",
        "def loadmodel(model_params_dir,name): \n",
        "    # Load model architecture from JSON file\n",
        "    model = keras.models.model_from_json(open(model_params_dir + name + '_arch.json').read())\n",
        "    # Load model weights from HDF5 file\n",
        "    model.load_weights(model_params_dir + name + '_weights.h5')\n",
        "    print(\"Loaded model from disk\")\n",
        "    return model"
      ],
      "execution_count": 0,
      "outputs": []
    },
    {
      "cell_type": "code",
      "metadata": {
        "id": "6AH1FIY0oXJG",
        "colab_type": "code",
        "colab": {}
      },
      "source": [
        "# Load weights only\n",
        "def loadmodelweights(model,model_params_dir,name_weightfile): \n",
        "    # Load model weights from HDF5 file\n",
        "    model.load_weights(model_params_dir + name_weightfile+'.h5')\n",
        "    print(\"Loaded model weights from disk\")\n",
        "    return model"
      ],
      "execution_count": 0,
      "outputs": []
    },
    {
      "cell_type": "code",
      "metadata": {
        "id": "e21smhv0oZ4k",
        "colab_type": "code",
        "outputId": "5f6fcbba-17f1-4aed-8774-5aa7f62fb3da",
        "colab": {
          "base_uri": "https://localhost:8080/",
          "height": 52
        }
      },
      "source": [
        "loadmodelweights(model, DIR_OUT, model_name + '_weights')"
      ],
      "execution_count": 46,
      "outputs": [
        {
          "output_type": "stream",
          "text": [
            "Loaded model weights from disk\n"
          ],
          "name": "stdout"
        },
        {
          "output_type": "execute_result",
          "data": {
            "text/plain": [
              "<tensorflow.python.keras.engine.sequential.Sequential at 0x7f9b4a506cf8>"
            ]
          },
          "metadata": {
            "tags": []
          },
          "execution_count": 46
        }
      ]
    },
    {
      "cell_type": "code",
      "metadata": {
        "id": "VSV77bD-orrR",
        "colab_type": "code",
        "colab": {}
      },
      "source": [
        ""
      ],
      "execution_count": 0,
      "outputs": []
    }
  ]
}